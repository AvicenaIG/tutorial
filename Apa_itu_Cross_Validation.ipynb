{
 "cells": [
  {
   "cell_type": "markdown",
   "metadata": {},
   "source": [
    "\n",
    "Singkatnya: Cross Validation adalah metode menguji kualitas model machine learning terutama untuk data yang sedikit\n",
    "\n",
    "Kita tahu untuk melakukan evaluasi kita perlu membagi dataset menjadi dua yaitu training set dan test set. \n",
    "Cara pembagian dataset yang paling sederhana (primitif) biasanya dengan melakukan split 80 % training set dan  20 % test set.\n",
    "Kalau kalian memiliki 10000 data , maka 8000 data digunakan sebagai training dan 2000 data sebagai testing\n",
    "\n",
    "Lalu bagaimana kalau dataset terlalu kecil ?\n",
    "Misal kita hanya memiliki data yang hanya berisi 50 sampel\n",
    "Kalau memakai aturan 80:20 , maka kita hanya memiliki 40 sampel di training set dan 10 sampel di test set . Ini kurang untuk melihat kualitas sebenarnya dari model machine learning kita.\n",
    "\n",
    "Dengan menggunakan Cross Validation maka kita bisa memiliki 50 training set dan 50 test set , bagaimana bisa ?\n",
    "\n",
    "Cara yang dipakai dalam metode Cross Validation adalah dengan melakukan sampel berulang kali\n",
    "\n",
    "Yang paling umum yaitu 10 fold Cross Validation\n",
    "\n",
    "yaitu melakukan sample 10 kali , dengan ratio 90% training set dan 10 % test set\n",
    "\n",
    "Dengan data berjumlah 50 maka :\n",
    "Pada iterasi pertama akan diambil 40 training set , dan 10 test set\n",
    "\n",
    "Pada iterasi kedua akan diambil 40 sampel untuk training set dan 10 sampel test set , namun 10 sampel test set yang dipakai kali ini berbeda dari 10 sampel test set yang sebelumnya.\n",
    "\n",
    "Begitu seterusnya\n",
    "\n",
    "\n",
    "Dengan cara ini 50 data yang ada bergantian terkadang menjadi training set , terkadang menjadi test set\n",
    "\n",
    "Hasil prediksi lalu dgabung dari tiap iterasi , sehingga total menjadi 50 sampel , untuk dilihat kualitasnya melalui metrics yang ada , misal accuracy\n",
    "\n",
    "Mari simak kode dibawah ini\n",
    "\n"
   ]
  },
  {
   "cell_type": "code",
   "execution_count": 5,
   "metadata": {},
   "outputs": [],
   "source": [
    "from sklearn.model_selection import KFold\n",
    "from sklearn.datasets import load_iris"
   ]
  },
  {
   "cell_type": "code",
   "execution_count": 14,
   "metadata": {},
   "outputs": [],
   "source": [
    "dataset= load_iris() #ambil dataset contoh dari sklearn\n",
    "\n",
    "X_dataset = dataset['data']\n",
    "y_dataset = dataset['target']\n",
    "\n",
    "   \n",
    "    "
   ]
  },
  {
   "cell_type": "markdown",
   "metadata": {},
   "source": [
    "mari kita hitung jumlah total data yang kita miliki"
   ]
  },
  {
   "cell_type": "code",
   "execution_count": 16,
   "metadata": {},
   "outputs": [
    {
     "data": {
      "text/plain": [
       "150"
      ]
     },
     "execution_count": 16,
     "metadata": {},
     "output_type": "execute_result"
    }
   ],
   "source": [
    "len(X_dataset)"
   ]
  },
  {
   "cell_type": "markdown",
   "metadata": {},
   "source": [
    "ternyata kita memiliki 150 data, kalau kita melakukan split dengan cara primitif 80:20 , maka kita hanya memiliki data 120 utuk traning dan 30 untuk testing , "
   ]
  },
  {
   "cell_type": "markdown",
   "metadata": {},
   "source": [
    "Kalau menggunakan Cross Validation kita bisa memaksimalkan dataset kita"
   ]
  },
  {
   "cell_type": "code",
   "execution_count": 21,
   "metadata": {},
   "outputs": [
    {
     "name": "stdout",
     "output_type": "stream",
     "text": [
      "train_index:  [ 15  16  17  18  19  20  21  22  23  24  25  26  27  28  29  30  31  32\n",
      "  33  34  35  36  37  38  39  40  41  42  43  44  45  46  47  48  49  50\n",
      "  51  52  53  54  55  56  57  58  59  60  61  62  63  64  65  66  67  68\n",
      "  69  70  71  72  73  74  75  76  77  78  79  80  81  82  83  84  85  86\n",
      "  87  88  89  90  91  92  93  94  95  96  97  98  99 100 101 102 103 104\n",
      " 105 106 107 108 109 110 111 112 113 114 115 116 117 118 119 120 121 122\n",
      " 123 124 125 126 127 128 129 130 131 132 133 134 135 136 137 138 139 140\n",
      " 141 142 143 144 145 146 147 148 149]\n",
      "test_index:  [ 0  1  2  3  4  5  6  7  8  9 10 11 12 13 14]\n",
      "train_index:  [  0   1   2   3   4   5   6   7   8   9  10  11  12  13  14  30  31  32\n",
      "  33  34  35  36  37  38  39  40  41  42  43  44  45  46  47  48  49  50\n",
      "  51  52  53  54  55  56  57  58  59  60  61  62  63  64  65  66  67  68\n",
      "  69  70  71  72  73  74  75  76  77  78  79  80  81  82  83  84  85  86\n",
      "  87  88  89  90  91  92  93  94  95  96  97  98  99 100 101 102 103 104\n",
      " 105 106 107 108 109 110 111 112 113 114 115 116 117 118 119 120 121 122\n",
      " 123 124 125 126 127 128 129 130 131 132 133 134 135 136 137 138 139 140\n",
      " 141 142 143 144 145 146 147 148 149]\n",
      "test_index:  [15 16 17 18 19 20 21 22 23 24 25 26 27 28 29]\n",
      "train_index:  [  0   1   2   3   4   5   6   7   8   9  10  11  12  13  14  15  16  17\n",
      "  18  19  20  21  22  23  24  25  26  27  28  29  45  46  47  48  49  50\n",
      "  51  52  53  54  55  56  57  58  59  60  61  62  63  64  65  66  67  68\n",
      "  69  70  71  72  73  74  75  76  77  78  79  80  81  82  83  84  85  86\n",
      "  87  88  89  90  91  92  93  94  95  96  97  98  99 100 101 102 103 104\n",
      " 105 106 107 108 109 110 111 112 113 114 115 116 117 118 119 120 121 122\n",
      " 123 124 125 126 127 128 129 130 131 132 133 134 135 136 137 138 139 140\n",
      " 141 142 143 144 145 146 147 148 149]\n",
      "test_index:  [30 31 32 33 34 35 36 37 38 39 40 41 42 43 44]\n",
      "train_index:  [  0   1   2   3   4   5   6   7   8   9  10  11  12  13  14  15  16  17\n",
      "  18  19  20  21  22  23  24  25  26  27  28  29  30  31  32  33  34  35\n",
      "  36  37  38  39  40  41  42  43  44  60  61  62  63  64  65  66  67  68\n",
      "  69  70  71  72  73  74  75  76  77  78  79  80  81  82  83  84  85  86\n",
      "  87  88  89  90  91  92  93  94  95  96  97  98  99 100 101 102 103 104\n",
      " 105 106 107 108 109 110 111 112 113 114 115 116 117 118 119 120 121 122\n",
      " 123 124 125 126 127 128 129 130 131 132 133 134 135 136 137 138 139 140\n",
      " 141 142 143 144 145 146 147 148 149]\n",
      "test_index:  [45 46 47 48 49 50 51 52 53 54 55 56 57 58 59]\n",
      "train_index:  [  0   1   2   3   4   5   6   7   8   9  10  11  12  13  14  15  16  17\n",
      "  18  19  20  21  22  23  24  25  26  27  28  29  30  31  32  33  34  35\n",
      "  36  37  38  39  40  41  42  43  44  45  46  47  48  49  50  51  52  53\n",
      "  54  55  56  57  58  59  75  76  77  78  79  80  81  82  83  84  85  86\n",
      "  87  88  89  90  91  92  93  94  95  96  97  98  99 100 101 102 103 104\n",
      " 105 106 107 108 109 110 111 112 113 114 115 116 117 118 119 120 121 122\n",
      " 123 124 125 126 127 128 129 130 131 132 133 134 135 136 137 138 139 140\n",
      " 141 142 143 144 145 146 147 148 149]\n",
      "test_index:  [60 61 62 63 64 65 66 67 68 69 70 71 72 73 74]\n",
      "train_index:  [  0   1   2   3   4   5   6   7   8   9  10  11  12  13  14  15  16  17\n",
      "  18  19  20  21  22  23  24  25  26  27  28  29  30  31  32  33  34  35\n",
      "  36  37  38  39  40  41  42  43  44  45  46  47  48  49  50  51  52  53\n",
      "  54  55  56  57  58  59  60  61  62  63  64  65  66  67  68  69  70  71\n",
      "  72  73  74  90  91  92  93  94  95  96  97  98  99 100 101 102 103 104\n",
      " 105 106 107 108 109 110 111 112 113 114 115 116 117 118 119 120 121 122\n",
      " 123 124 125 126 127 128 129 130 131 132 133 134 135 136 137 138 139 140\n",
      " 141 142 143 144 145 146 147 148 149]\n",
      "test_index:  [75 76 77 78 79 80 81 82 83 84 85 86 87 88 89]\n",
      "train_index:  [  0   1   2   3   4   5   6   7   8   9  10  11  12  13  14  15  16  17\n",
      "  18  19  20  21  22  23  24  25  26  27  28  29  30  31  32  33  34  35\n",
      "  36  37  38  39  40  41  42  43  44  45  46  47  48  49  50  51  52  53\n",
      "  54  55  56  57  58  59  60  61  62  63  64  65  66  67  68  69  70  71\n",
      "  72  73  74  75  76  77  78  79  80  81  82  83  84  85  86  87  88  89\n",
      " 105 106 107 108 109 110 111 112 113 114 115 116 117 118 119 120 121 122\n",
      " 123 124 125 126 127 128 129 130 131 132 133 134 135 136 137 138 139 140\n",
      " 141 142 143 144 145 146 147 148 149]\n",
      "test_index:  [ 90  91  92  93  94  95  96  97  98  99 100 101 102 103 104]\n",
      "train_index:  [  0   1   2   3   4   5   6   7   8   9  10  11  12  13  14  15  16  17\n",
      "  18  19  20  21  22  23  24  25  26  27  28  29  30  31  32  33  34  35\n",
      "  36  37  38  39  40  41  42  43  44  45  46  47  48  49  50  51  52  53\n",
      "  54  55  56  57  58  59  60  61  62  63  64  65  66  67  68  69  70  71\n",
      "  72  73  74  75  76  77  78  79  80  81  82  83  84  85  86  87  88  89\n",
      "  90  91  92  93  94  95  96  97  98  99 100 101 102 103 104 120 121 122\n",
      " 123 124 125 126 127 128 129 130 131 132 133 134 135 136 137 138 139 140\n",
      " 141 142 143 144 145 146 147 148 149]\n",
      "test_index:  [105 106 107 108 109 110 111 112 113 114 115 116 117 118 119]\n",
      "train_index:  [  0   1   2   3   4   5   6   7   8   9  10  11  12  13  14  15  16  17\n",
      "  18  19  20  21  22  23  24  25  26  27  28  29  30  31  32  33  34  35\n",
      "  36  37  38  39  40  41  42  43  44  45  46  47  48  49  50  51  52  53\n",
      "  54  55  56  57  58  59  60  61  62  63  64  65  66  67  68  69  70  71\n",
      "  72  73  74  75  76  77  78  79  80  81  82  83  84  85  86  87  88  89\n",
      "  90  91  92  93  94  95  96  97  98  99 100 101 102 103 104 105 106 107\n",
      " 108 109 110 111 112 113 114 115 116 117 118 119 135 136 137 138 139 140\n",
      " 141 142 143 144 145 146 147 148 149]\n",
      "test_index:  [120 121 122 123 124 125 126 127 128 129 130 131 132 133 134]\n",
      "train_index:  [  0   1   2   3   4   5   6   7   8   9  10  11  12  13  14  15  16  17\n",
      "  18  19  20  21  22  23  24  25  26  27  28  29  30  31  32  33  34  35\n",
      "  36  37  38  39  40  41  42  43  44  45  46  47  48  49  50  51  52  53\n",
      "  54  55  56  57  58  59  60  61  62  63  64  65  66  67  68  69  70  71\n",
      "  72  73  74  75  76  77  78  79  80  81  82  83  84  85  86  87  88  89\n",
      "  90  91  92  93  94  95  96  97  98  99 100 101 102 103 104 105 106 107\n",
      " 108 109 110 111 112 113 114 115 116 117 118 119 120 121 122 123 124 125\n",
      " 126 127 128 129 130 131 132 133 134]\n",
      "test_index:  [135 136 137 138 139 140 141 142 143 144 145 146 147 148 149]\n"
     ]
    }
   ],
   "source": [
    "kfold = KFold(10) #kita memakai 10 fold Cross Validation\n",
    "for train_index, test_index  in kfold.split(X_dataset):\n",
    "    \n",
    "    print(\"train_index: \" , train_index)\n",
    "    print(\"test_index: \" , test_index)"
   ]
  },
  {
   "cell_type": "markdown",
   "metadata": {},
   "source": [
    "Perhatikan , ada 10 kali perulangan , masing-masing perulangan memiliki test_index yang berbeda"
   ]
  },
  {
   "cell_type": "code",
   "execution_count": 22,
   "metadata": {},
   "outputs": [
    {
     "name": "stdout",
     "output_type": "stream",
     "text": [
      "train_index:  135\n",
      "test_index:  15\n",
      "train_index:  135\n",
      "test_index:  15\n",
      "train_index:  135\n",
      "test_index:  15\n",
      "train_index:  135\n",
      "test_index:  15\n",
      "train_index:  135\n",
      "test_index:  15\n",
      "train_index:  135\n",
      "test_index:  15\n",
      "train_index:  135\n",
      "test_index:  15\n",
      "train_index:  135\n",
      "test_index:  15\n",
      "train_index:  135\n",
      "test_index:  15\n",
      "train_index:  135\n",
      "test_index:  15\n"
     ]
    }
   ],
   "source": [
    "kfold = KFold(10) #kita memakai 10 fold Cross Validation\n",
    "for train_index, test_index  in kfold.split(X_dataset):\n",
    "    \n",
    "    print(\"train_index: \" , len(train_index))\n",
    "    print(\"test_index: \" , len(test_index))"
   ]
  },
  {
   "cell_type": "markdown",
   "metadata": {},
   "source": [
    "Perhatikan lagi , pada setiap perulangan/iterasi ada 135 data training yang digunakan, dan 15 data test yang digunakan.\n",
    "\n",
    "data test pada setiap perulangan ini nantinya dijadikan satu. Sehingga total kita memiliki 150 data test ( karena ada 10 perulangan)\n",
    "\n",
    "\n",
    "Coba bandingkan dengan melakukan split dengan cara primitif 80:20 tadi dimana kita hanya memiliki 30 data test. Dengan Cross Validation kita memiliki 150 data test. Dengan lebih banyak data test maka hasil metrics lebih solid. \n",
    "    Kita bisa menghitung accuracy, precision, recall, f-measure dengan hasil yang lebih dapat dipercaya karena data test lebih besar"
   ]
  },
  {
   "cell_type": "code",
   "execution_count": null,
   "metadata": {},
   "outputs": [],
   "source": []
  }
 ],
 "metadata": {
  "kernelspec": {
   "display_name": "Python 3",
   "language": "python",
   "name": "python3"
  },
  "language_info": {
   "codemirror_mode": {
    "name": "ipython",
    "version": 3
   },
   "file_extension": ".py",
   "mimetype": "text/x-python",
   "name": "python",
   "nbconvert_exporter": "python",
   "pygments_lexer": "ipython3",
   "version": "3.6.8"
  }
 },
 "nbformat": 4,
 "nbformat_minor": 2
}
